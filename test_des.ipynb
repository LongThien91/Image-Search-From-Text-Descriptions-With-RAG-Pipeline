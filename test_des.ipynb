{
 "cells": [
  {
   "cell_type": "code",
   "execution_count": null,
   "id": "10a6a016",
   "metadata": {},
   "outputs": [],
   "source": [
    "import os\n",
    "from LLM.Gemini_Image_description_for_clothes import CheckImageDescriber\n",
    "from dotenv import load_dotenv\n",
    "import matplotlib.pyplot as plt\n",
    "import requests\n",
    "from PIL import Image\n",
    "from io import BytesIO\n"
   ]
  },
  {
   "cell_type": "code",
   "execution_count": 2,
   "id": "2463c2dd",
   "metadata": {},
   "outputs": [],
   "source": [
    "from LLM.api_list_manager import APIKeyManager\n",
    "\n",
    "load_dotenv()\n",
    "GEMINI_API_LIST = os.getenv('GEMINI_API_LIST').split(',')\n",
    "KEY_MANAGER_GEMINI = APIKeyManager(GEMINI_API_LIST)\n",
    "MODEL_EMBEDDING=os.getenv(\"MODEL_EMBEDDING\")\n",
    "qdrant_url = os.getenv(\"qdrant_url\")\n",
    "qdrant_apikey = os.getenv(\"qdrant_apikey\")\n",
    "\n",
    "GEMINI_MODEL = os.getenv(\"GEMINI_MODEL\")\n"
   ]
  },
  {
   "cell_type": "code",
   "execution_count": 7,
   "id": "eef045b9",
   "metadata": {},
   "outputs": [],
   "source": [
    "get_des= CheckImageDescriber(KEY_MANAGER_GEMINI,GEMINI_MODEL)"
   ]
  },
  {
   "cell_type": "code",
   "execution_count": 12,
   "id": "08adccf7",
   "metadata": {},
   "outputs": [
    {
     "name": "stdout",
     "output_type": "stream",
     "text": [
      "Mũ lưỡi trai bằng vải, màu đen \n",
      " Áo thun tay ngắn, màu xanh lục xám, có logo Calvin Klein hình chữ nhật ở ngực trái \n",
      " Áo khoác nỉ màu đen \n",
      " Quần thể thao dài, màu đen, có dây rút ở eo.\n"
     ]
    }
   ],
   "source": [
    "img_path=r\"D:\\Desktop\\shirt\\21.jpg\"\n",
    "des= get_des.describe_image(img_path)\n",
    "des_list= des.split('---')\n",
    "for i in des_list:\n",
    "    print(i)"
   ]
  },
  {
   "cell_type": "code",
   "execution_count": 17,
   "id": "ee10ed11",
   "metadata": {},
   "outputs": [
    {
     "name": "stdout",
     "output_type": "stream",
     "text": [
      "0 Mũ lưỡi trai bằng vải, màu đen \n",
      "1  Áo thun tay ngắn, màu xanh lục xám, có logo Calvin Klein hình chữ nhật ở ngực trái \n",
      "2  Áo khoác nỉ màu đen \n",
      "3  Quần thể thao dài, màu đen, có dây rút ở eo.\n"
     ]
    }
   ],
   "source": [
    "for idx,doc in enumerate(des_list):\n",
    "    print(idx , doc)"
   ]
  },
  {
   "cell_type": "markdown",
   "id": "6b58c0ca",
   "metadata": {},
   "source": [
    "\n",
    "## add image to collection\n",
    "\n"
   ]
  },
  {
   "cell_type": "code",
   "execution_count": 1,
   "id": "4ce904f7",
   "metadata": {},
   "outputs": [
    {
     "name": "stderr",
     "output_type": "stream",
     "text": [
      "d:\\Project\\venvImageSearch\\lib\\site-packages\\tqdm\\auto.py:21: TqdmWarning: IProgress not found. Please update jupyter and ipywidgets. See https://ipywidgets.readthedocs.io/en/stable/user_install.html\n",
      "  from .autonotebook import tqdm as notebook_tqdm\n"
     ]
    }
   ],
   "source": [
    "from vectorDatabase.embedding import add_img_to_collection"
   ]
  },
  {
   "cell_type": "code",
   "execution_count": 2,
   "id": "28703ba2",
   "metadata": {},
   "outputs": [
    {
     "name": "stdout",
     "output_type": "stream",
     "text": [
      "1\n",
      "✅ Đã thêm image description vào collection 'kaggle' và cloudinary thành công!\n"
     ]
    }
   ],
   "source": [
    "add_img_to_collection(r\"D:\\Desktop\\shirt\\47.jpg\",'kaggle')"
   ]
  }
 ],
 "metadata": {
  "kernelspec": {
   "display_name": "venvImageSearch",
   "language": "python",
   "name": "python3"
  },
  "language_info": {
   "codemirror_mode": {
    "name": "ipython",
    "version": 3
   },
   "file_extension": ".py",
   "mimetype": "text/x-python",
   "name": "python",
   "nbconvert_exporter": "python",
   "pygments_lexer": "ipython3",
   "version": "3.10.11"
  }
 },
 "nbformat": 4,
 "nbformat_minor": 5
}
