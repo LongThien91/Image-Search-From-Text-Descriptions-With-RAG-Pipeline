{
 "cells": [
  {
   "cell_type": "code",
   "execution_count": null,
   "id": "ddeca296",
   "metadata": {},
   "outputs": [],
   "source": [
    "import os\n",
    "from LLM.Gemini_Image_description_for_clothes import CheckImageDescriber\n",
    "import cloudinary.uploader\n",
    "from dotenv import load_dotenv\n",
    "import matplotlib.pyplot as plt\n",
    "import requests\n",
    "from PIL import Image\n",
    "from io import BytesIO\n",
    "from cloudinary.utils import cloudinary_url\n",
    "from ImageDatabase.cloudinary_image import get_image_url, delete_image, upload_image"
   ]
  },
  {
   "cell_type": "code",
   "execution_count": 2,
   "id": "97e45425",
   "metadata": {},
   "outputs": [
    {
     "data": {
      "text/plain": [
       "<cloudinary.Config at 0x260d7c98910>"
      ]
     },
     "execution_count": 2,
     "metadata": {},
     "output_type": "execute_result"
    }
   ],
   "source": [
    "load_dotenv()\n",
    "CLOUD_NAME = os.getenv(\"CLOUD_NAME\")\n",
    "CLOUDINARY_API_KEY = os.getenv(\"CLOUDINARY_API_KEY\")\n",
    "CLOUDINARY_API_SECRETKEY = os.getenv(\"CLOUDINARY_API_SECRETKEY\")\n",
    "\n",
    "cloudinary.config(\n",
    "  cloud_name = CLOUD_NAME,\n",
    "  api_key = CLOUDINARY_API_KEY,\n",
    "  api_secret = CLOUDINARY_API_SECRETKEY\n",
    ")"
   ]
  },
  {
   "cell_type": "code",
   "execution_count": 1,
   "id": "c1b72a64",
   "metadata": {},
   "outputs": [
    {
     "name": "stderr",
     "output_type": "stream",
     "text": [
      "d:\\Project\\venvImageSearch\\lib\\site-packages\\tqdm\\auto.py:21: TqdmWarning: IProgress not found. Please update jupyter and ipywidgets. See https://ipywidgets.readthedocs.io/en/stable/user_install.html\n",
      "  from .autonotebook import tqdm as notebook_tqdm\n"
     ]
    }
   ],
   "source": [
    "from vectorDatabase.vector_search import top_image"
   ]
  },
  {
   "cell_type": "code",
   "execution_count": 2,
   "id": "0a3bb915",
   "metadata": {},
   "outputs": [],
   "source": [
    "results=top_image('áo có màu đen với số 1 đằng sau lưng','kaggle',10)"
   ]
  },
  {
   "cell_type": "code",
   "execution_count": null,
   "id": "4825d2f4",
   "metadata": {},
   "outputs": [
    {
     "name": "stdout",
     "output_type": "stream",
     "text": [
      "ca7667ff-b316-40e4-b280-2bf8661ab842\n",
      "aed5e166-e010-45d8-9be4-f4017094d40b\n",
      "ca92d0d3-2119-4ccb-8639-9d4eb9851803\n",
      "75c48e5d-baa8-4009-ac53-56e9d7d95cb8\n",
      "bccb61eb-36d8-4207-a273-e697f0857c82\n",
      "2576d030-c171-44b8-a925-7c3e270cefb8\n",
      "557b1dff-d8a9-4088-be84-4f902e51c4a3\n",
      "8cf5efaf-9dd6-4bbc-be6a-5e2e8bfd177d\n",
      "d5389edd-ab9a-4b3a-8f75-c542e1dfc94b\n",
      "dc6558c5-8be6-4f7c-8598-1da8a96c9088\n"
     ]
    }
   ],
   "source": [
    "for result in results:\n",
    "    print(result.id)\n",
    "    uuid = \"day la anh\"  # hoặc public_id của bạn\n",
    "    url = get_image_url(uuid)\n",
    "\n",
    "    response = requests.get(url)\n",
    "    img = Image.open(BytesIO(response.content))\n",
    "    plt.imshow(img)\n",
    "    plt.tight_layout()\n",
    "    plt.show()"
   ]
  },
  {
   "cell_type": "code",
   "execution_count": null,
   "id": "b049a54a",
   "metadata": {},
   "outputs": [],
   "source": []
  },
  {
   "cell_type": "code",
   "execution_count": null,
   "id": "f9e30f08",
   "metadata": {},
   "outputs": [],
   "source": [
    "cloudinary.uploader.upload(\n",
    "    r\"D:\\DownLoad\\20201030_190044.jpg\",\n",
    "    public_id='day la anh',\n",
    "    overwrite=True  # Ghi đè nếu tên trùng (an toàn nếu dùng UUID)\n",
    ")"
   ]
  },
  {
   "cell_type": "code",
   "execution_count": 4,
   "id": "59ce6d27",
   "metadata": {},
   "outputs": [],
   "source": [
    "# 1. Lấy URL ảnh từ Cloudinary\n",
    "uuid = \"day la anh\"  # hoặc public_id của bạn\n",
    "url = get_image_url(uuid)\n",
    "\n",
    "# 2. Tải ảnh từ URL và hiển thị bằng plt\n",
    "response = requests.get(url)\n",
    "img = Image.open(BytesIO(response.content))"
   ]
  },
  {
   "cell_type": "code",
   "execution_count": 5,
   "id": "a6f8b9eb",
   "metadata": {},
   "outputs": [
    {
     "data": {
      "text/plain": [
       "{'result': 'ok'}"
      ]
     },
     "execution_count": 5,
     "metadata": {},
     "output_type": "execute_result"
    }
   ],
   "source": [
    "uuid = \"gtrfdvggd\"  # hoặc public_id của bạn\n",
    "delete_image(uuid)"
   ]
  },
  {
   "cell_type": "code",
   "execution_count": null,
   "id": "9bd8489f",
   "metadata": {},
   "outputs": [],
   "source": [
    "plt.imshow(img)\n",
    "plt.axis(\"off\")  # Ẩn trục\n",
    "plt.show()"
   ]
  },
  {
   "cell_type": "code",
   "execution_count": 1,
   "id": "9a2c2722",
   "metadata": {},
   "outputs": [],
   "source": [
    "from vectorDatabase.manage_collection import get_collection,create_collection"
   ]
  },
  {
   "cell_type": "code",
   "execution_count": 4,
   "id": "14a2c35c",
   "metadata": {},
   "outputs": [
    {
     "name": "stdout",
     "output_type": "stream",
     "text": [
      "Collection 'anh2' đã được tạo thành công!\n"
     ]
    }
   ],
   "source": [
    "create_collection('anh2')"
   ]
  },
  {
   "cell_type": "code",
   "execution_count": 5,
   "id": "54440b8d",
   "metadata": {},
   "outputs": [
    {
     "name": "stdout",
     "output_type": "stream",
     "text": [
      "collections=[CollectionDescription(name='anh2'), CollectionDescription(name='anh')]\n"
     ]
    }
   ],
   "source": [
    "print(get_collection())"
   ]
  },
  {
   "cell_type": "code",
   "execution_count": 1,
   "id": "0d64e0b8",
   "metadata": {},
   "outputs": [
    {
     "name": "stderr",
     "output_type": "stream",
     "text": [
      "d:\\Project\\venvImageSearch\\lib\\site-packages\\tqdm\\auto.py:21: TqdmWarning: IProgress not found. Please update jupyter and ipywidgets. See https://ipywidgets.readthedocs.io/en/stable/user_install.html\n",
      "  from .autonotebook import tqdm as notebook_tqdm\n"
     ]
    }
   ],
   "source": [
    "from vectorDatabase.embedding import add_img_to_collection"
   ]
  },
  {
   "cell_type": "code",
   "execution_count": 5,
   "id": "eb77722d",
   "metadata": {},
   "outputs": [],
   "source": [
    "import tqdm\n",
    "import os"
   ]
  },
  {
   "cell_type": "code",
   "execution_count": 12,
   "id": "feb072e7",
   "metadata": {},
   "outputs": [],
   "source": [
    "from sentence_transformers import SentenceTransformer\n",
    "from qdrant_client import QdrantClient,models\n",
    "import os\n",
    "from dotenv import load_dotenv\n",
    "\n",
    "\n",
    "\n",
    "load_dotenv()\n",
    "\n",
    "MODEL_EMBEDDING=os.getenv(\"MODEL_EMBEDDING\")\n",
    "qdrant_url = os.getenv(\"qdrant_url\")\n",
    "qdrant_apikey = os.getenv(\"qdrant_apikey\")\n",
    "GEMINI_API_LIST = os.getenv(\"GEMINI_API_LIST\")\n",
    "GEMINI_MODEL = os.getenv(\"GEMINI_MODEL\")"
   ]
  },
  {
   "cell_type": "code",
   "execution_count": 13,
   "id": "0708712b",
   "metadata": {},
   "outputs": [],
   "source": [
    "client = QdrantClient(url=qdrant_url, api_key=qdrant_apikey)"
   ]
  },
  {
   "cell_type": "code",
   "execution_count": 19,
   "id": "aa75e872",
   "metadata": {},
   "outputs": [
    {
     "name": "stdout",
     "output_type": "stream",
     "text": [
      "ID: 54cdd6e7-2136-4525-a916-df07e5fa8053\n",
      "ID: 672bf5a9-dce3-431b-9bd9-70e53812d637\n",
      "ID: 7a00e6f3-514a-438d-87f3-126d2d8a09d0\n",
      "ID: b8240c84-154b-4805-964b-e883dfa8f14b\n",
      "ID: db38f94c-8916-42b1-8eb5-92f9800ff0ef\n"
     ]
    }
   ],
   "source": [
    "collection_name = \"anh2\"\n",
    "\n",
    "# Scroll tất cả các point và lấy ID\n",
    "all_ids = []\n",
    "offset = None\n",
    "\n",
    "while True:\n",
    "    points, offset = client.scroll(\n",
    "        collection_name=collection_name,\n",
    "        limit=100000,            \n",
    "        offset=offset,\n",
    "        with_payload=False,   # không cần payload\n",
    "        with_vectors=False    # không cần vector\n",
    "    )\n",
    "    all_ids.extend([point.id for point in points])\n",
    "    if offset is None:\n",
    "        break\n",
    "\n",
    "for id in all_ids:\n",
    "    print(f\"ID: {id}\")"
   ]
  },
  {
   "cell_type": "code",
   "execution_count": 1,
   "id": "16cba5ac",
   "metadata": {},
   "outputs": [],
   "source": [
    "from vectorDatabase.manage_collection import is_collection_available"
   ]
  },
  {
   "cell_type": "code",
   "execution_count": 2,
   "id": "05bf1fdb",
   "metadata": {},
   "outputs": [
    {
     "name": "stdout",
     "output_type": "stream",
     "text": [
      "1\n"
     ]
    }
   ],
   "source": [
    "print(is_collection_available('clothes'))"
   ]
  }
 ],
 "metadata": {
  "kernelspec": {
   "display_name": "venvImageSearch",
   "language": "python",
   "name": "python3"
  },
  "language_info": {
   "codemirror_mode": {
    "name": "ipython",
    "version": 3
   },
   "file_extension": ".py",
   "mimetype": "text/x-python",
   "name": "python",
   "nbconvert_exporter": "python",
   "pygments_lexer": "ipython3",
   "version": "3.10.11"
  }
 },
 "nbformat": 4,
 "nbformat_minor": 5
}
